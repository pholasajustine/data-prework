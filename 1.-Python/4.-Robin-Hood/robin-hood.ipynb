{
 "cells": [
  {
   "cell_type": "markdown",
   "metadata": {},
   "source": [
    "# Robin Hood:\n",
    "We are in a competition to win the archery contest in Sherwood. With our bow and arrows we shoot on a target and try to hit as close as possible to the center.\n",
    "\n",
    "The center of the target is represented by the values (0, 0) on the coordinate axes.\n",
    "\n",
    "![](images/arrows.jpg)\n",
    "\n",
    "## Goals:\n",
    "* data structures: lists, sets, tuples\n",
    "* logical operators: if-elif-else\n",
    "* loop: while/for\n",
    "* minimum (optional sorting)\n",
    "\n",
    "## Description:\n",
    "In the 2-dimensional space, a point can be defined by a pair of values that correspond to the horizontal coordinate (x) and the vertical coordinate (y). The space can be divided into 4 zones (quadrants): Q1, Q2, Q3, Q4. Whose single point of union is the point (0, 0).\n",
    "\n",
    "If a point is in Q1 both its x coordinate and the y are positive. I leave a link to wikipedia to familiarize yourself with these quadrants.\n",
    "\n",
    "https://en.wikipedia.org/wiki/Cartesian_coordinate_system\n",
    "\n",
    "https://en.wikipedia.org/wiki/Euclidean_distance\n",
    "\n",
    "## Shots\n",
    "```\n",
    "points = [(4, 5), (-0, 2), (4, 7), (1, -3), (3, -2), (4, 5),\n",
    "          (3, 2), (5, 7), (-5, 7), (2, 2), (-4, 5), (0, -2),\n",
    "          (-4, 7), (-1, 3), (-3, 2), (-4, -5), (-3, 2),\n",
    "          (5, 7), (5, 7), (2, 2), (9, 9), (-8, -9)]\n",
    "```\n",
    "\n",
    "## Tasks\n",
    "1. Robin Hood is famous for hitting an arrow with another arrow. Did you get it?\n",
    "2. Calculate how many arrows have fallen in each quadrant.\n",
    "3. Find the point closest to the center. Calculate its distance to the center. \n",
    "4. If the target has a radius of 9, calculate the number of arrows that must be picked up in the forest."
   ]
  },
  {
   "cell_type": "code",
   "execution_count": 1,
   "metadata": {},
   "outputs": [],
   "source": [
    "# Variables\n",
    "\n",
    "points = [(4, 5), (-0, 2), (4, 7), (1, -3), (3, -2), (4, 5),\n",
    "          (3, 2), (5, 7), (-5, 7), (2, 2), (-4, 5), (0, -2),\n",
    "          (-4, 7), (-1, 3), (-3, 2), (-4, -5), (-3, 2),\n",
    "          (5, 7), (5, 7), (2, 2), (9, 9), (-8, -9)]"
   ]
  },
  {
   "cell_type": "code",
   "execution_count": 2,
   "metadata": {},
   "outputs": [],
   "source": [
    "# 1. Robin Hood is famous for hitting an arrow with another arrow. Did you get it?\n",
    "\n"
   ]
  },
  {
   "cell_type": "code",
   "execution_count": 3,
   "metadata": {},
   "outputs": [],
   "source": [
    "# 2. Calculate how many arrows have fallen in each quadrant.\n",
    "\n"
   ]
  },
  {
   "cell_type": "code",
   "execution_count": 4,
   "metadata": {},
   "outputs": [],
   "source": [
    "# 3. Find the point closest to the center. Calculate its distance to the center\n",
    "# Defining a function that calculates the distance to the center can help.\n",
    "\n"
   ]
  },
  {
   "cell_type": "code",
   "execution_count": 5,
   "metadata": {},
   "outputs": [],
   "source": [
    "# 4. If the target has a radius of 9, calculate the number of arrows that \n",
    "# must be picked up in the forest.\n",
    "\n"
   ]
  },
  {
   "cell_type": "code",
   "execution_count": 16,
   "metadata": {},
   "outputs": [
    {
     "name": "stdout",
     "output_type": "stream",
     "text": [
      "(4, 5) (4, 5)\n",
      "The number 5 arrow is from Robin Hood.\n",
      "(5, 7) (5, 7)\n",
      "The number 17 arrow is from Robin Hood.\n",
      "(5, 7) (5, 7)\n",
      "The number 18 arrow is from Robin Hood.\n",
      "(2, 2) (2, 2)\n",
      "The number 19 arrow is from Robin Hood.\n",
      "(-3, 2) (-3, 2)\n",
      "The number 16 arrow is from Robin Hood.\n",
      "(5, 7) (5, 7)\n",
      "The number 18 arrow is from Robin Hood.\n",
      "22\n",
      "11 arrows are in the first quadrant, 6 are in the second quadrant, 3 are in the third quadrant and 2 are in the fourth quadrant.\n",
      "(0, 2) is the closest to the center with a distance of 2.0\n",
      "2 arrows must be pickup up from the forest.\n"
     ]
    }
   ],
   "source": [
    "points = [(4, 5), (-0, 2), (4, 7), (1, -3), (3, -2), (4, 5),\n",
    "          (3, 2), (5, 7), (-5, 7), (2, 2), (-4, 5), (0, -2),\n",
    "          (-4, 7), (-1, 3), (-3, 2), (-4, -5), (-3, 2),\n",
    "          (5, 7), (5, 7), (2, 2), (9, 9), (-8, -9)]\n",
    "\n",
    "arrow=0\n",
    "arrow_next=arrow+1\n",
    "\n",
    "for arrow in range(len(points)):\n",
    "    for arrow_next in range(arrow+1,len(points)):\n",
    "        if points[arrow]==points[arrow_next]:\n",
    "            print(points[arrow], points[arrow_next])\n",
    "            print('The number',arrow_next,'arrow is from Robin Hood.')\n",
    "            \n",
    "Q1=0\n",
    "Q2=0\n",
    "Q3=0\n",
    "Q4=0\n",
    "            \n",
    "for arrow in range(len(points)):\n",
    "    list(points[arrow])\n",
    "    if points[arrow][0]>=0 and points[arrow][1]>=0:\n",
    "        Q1+=1\n",
    "    elif points[arrow][0]<=0 and points[arrow][1]>=0:\n",
    "        Q2+=1\n",
    "    elif points[arrow][0]<=0 and points[arrow][1]<=0:\n",
    "        Q3+=1\n",
    "    else:\n",
    "        Q4+=1\n",
    "print(len(points))\n",
    "print(Q1,'arrows are in the first quadrant,',Q2,'are in the second quadrant,',Q3,'are in the third quadrant and',Q4,'are in the fourth quadrant.')\n",
    "\n",
    "import math\n",
    "\n",
    "def distance_between_two_points(x1,x2,y1,y2):\n",
    "    distance=math.sqrt((x2-x1)**2+(y2-y1)**2)\n",
    "    return distance\n",
    "\n",
    "distance_between_points_and_the_center=[]\n",
    "d=0\n",
    "arrows_in_the_forest=0\n",
    "radius=9\n",
    "for arrow in range(len(points)):\n",
    "    list(points[arrow])\n",
    "    d=distance_between_two_points(0,points[arrow][0],0,points[arrow][1])\n",
    "    distance_between_points_and_the_center.append(d)\n",
    "    if d>radius:\n",
    "        arrows_in_the_forest+=1\n",
    "\n",
    "index_min=distance_between_points_and_the_center.index(min(distance_between_points_and_the_center))\n",
    "print(points[index_min],'is the closest to the center with a distance of',distance_between_points_and_the_center[index_min])\n",
    "print(arrows_in_the_forest,'arrows must be pickup up from the forest.')\n",
    "\n",
    "\n",
    "    \n",
    "\n",
    "\n",
    "\n",
    "    \n"
   ]
  },
  {
   "cell_type": "code",
   "execution_count": null,
   "metadata": {},
   "outputs": [],
   "source": []
  },
  {
   "cell_type": "code",
   "execution_count": null,
   "metadata": {},
   "outputs": [],
   "source": []
  }
 ],
 "metadata": {
  "kernelspec": {
   "display_name": "Python 3",
   "language": "python",
   "name": "python3"
  },
  "language_info": {
   "codemirror_mode": {
    "name": "ipython",
    "version": 3
   },
   "file_extension": ".py",
   "mimetype": "text/x-python",
   "name": "python",
   "nbconvert_exporter": "python",
   "pygments_lexer": "ipython3",
   "version": "3.8.3"
  }
 },
 "nbformat": 4,
 "nbformat_minor": 2
}
