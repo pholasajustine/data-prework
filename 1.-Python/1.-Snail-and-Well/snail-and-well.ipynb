{
 "cells": [
  {
   "cell_type": "markdown",
   "metadata": {},
   "source": [
    "# Snail and well\n",
    "\n",
    "A snail falls at the bottom of a 125 cm well. Each day the snail rises 30 cm. But at night, while sleeping, slides 20 cm because the walls are wet. How many days does it take to escape from the well?\n",
    "\n",
    "TIP: http://puzzles.nigelcoldwell.co.uk/sixtytwo.htm"
   ]
  },
  {
   "cell_type": "markdown",
   "metadata": {},
   "source": [
    "## Solución"
   ]
  },
  {
   "cell_type": "code",
   "execution_count": 35,
   "metadata": {},
   "outputs": [
    {
     "name": "stdout",
     "output_type": "stream",
     "text": [
      "It takes 13 days for the snail to escape the well.\n"
     ]
    }
   ],
   "source": [
    "# Assign problem data to variables with representative names\n",
    "# well height, daily advance, night retreat, accumulated distance\n",
    "\n",
    "\n",
    "# Assign 0 to the variable that represents the solution\n",
    "\n",
    "\n",
    "# Write the code that solves the problem\n",
    "\n",
    "\n",
    "# Print the result with print('Days =', days)\n",
    "\n",
    "well_height=125\n",
    "daily_advance=30\n",
    "night_retreat=-20\n",
    "snail_has_not_escaped=True\n",
    "days=0\n",
    "accumulated_distance=0\n",
    "\n",
    "distance_per_day= daily_advance+night_retreat\n",
    "\n",
    "while snail_has_not_escaped :\n",
    "    accumulated_distance += distance_per_day\n",
    "    days +=1\n",
    "    if accumulated_distance >=well_height:\n",
    "        snail_has_not_escaped=False\n",
    "print('It takes',days,'days for the snail to escape the well.')\n"
   ]
  },
  {
   "cell_type": "markdown",
   "metadata": {},
   "source": [
    "## Goals\n",
    "\n",
    "1. Treatment of variables\n",
    "2. Use of loop **while**\n",
    "3. Use of conditional **if-else**\n",
    "4. Print in console"
   ]
  },
  {
   "cell_type": "markdown",
   "metadata": {},
   "source": [
    "## Bonus\n",
    "The distance traveled by the snail is now defined by a list.\n",
    "```\n",
    "advance_cm = [30, 21, 33, 77, 44, 45, 23, 45, 12, 34, 55]\n",
    "```\n",
    "How long does it take to raise the well?\n",
    "\n",
    "What is its maximum displacement in one day? And its minimum?\n",
    "\n",
    "What is its average speed during the day?\n",
    "\n",
    "What is the standard deviation of its displacement during the day?"
   ]
  },
  {
   "cell_type": "code",
   "execution_count": 32,
   "metadata": {},
   "outputs": [],
   "source": []
  },
  {
   "cell_type": "code",
   "execution_count": 51,
   "metadata": {},
   "outputs": [
    {
     "name": "stdout",
     "output_type": "stream",
     "text": [
      "It takes 8 days for the snail to escape.\n",
      "The maximum displacement in a day is 57 cm.\n",
      "The minimun displacement in a day is -8 cm.\n",
      "Its average progess is 16.272727272727273 cm.\n",
      "The standard deviation of its displacement during the day is 17.389081783960194\n"
     ]
    }
   ],
   "source": [
    "# Assign problem data to variables with representative names\n",
    "# well height, daily advance, night retreat, accumulated distance\n",
    "\n",
    "\n",
    "# Assign 0 to the variable that represents the solution\n",
    "\n",
    "\n",
    "# Write the code that solves the problem\n",
    "\n",
    "\n",
    "\n",
    "# Print the result with print('Days =', days)\n",
    "\n",
    "\n",
    "# What is its maximum displacement in a day? And its minimum?\n",
    "\n",
    "\n",
    "\n",
    "# What is its average progress?\n",
    "\n",
    "\n",
    "# What is the standard deviation of your displacement during the day?\n",
    "\n",
    "\n",
    "well_height=125\n",
    "advance_cm = [30,21,33,77,44,25,23,45,12,34,55]\n",
    "night_retreat=-20\n",
    "snail_has_not_escaped=True\n",
    "days=0\n",
    "i=0\n",
    "accumulated_distance=0\n",
    "\n",
    "\n",
    "while snail_has_not_escaped:\n",
    "     accumulated_distance +=advance_cm[i]+night_retreat\n",
    "     i +=1\n",
    "     days +=1\n",
    "     if accumulated_distance >=well_height:\n",
    "      snail_has_not_escaped=False\n",
    "    \n",
    "print('It takes',days,'days for the snail to escape.')\n",
    "\n",
    "print('The maximum displacement in a day is',max(advance_cm)+night_retreat,'cm.')\n",
    "\n",
    "\n",
    "print('The minimun displacement in a day is',min(advance_cm)+night_retreat,'cm.')\n",
    "\n",
    "mean=sum(advance_cm)/len(advance_cm)\n",
    "print('Its average progess is',mean+night_retreat,'cm.')\n",
    "\n",
    "a=0\n",
    "\n",
    "\n",
    "for i in advance_cm:\n",
    "    a+=(i-mean)**2\n",
    "    \n",
    "import math\n",
    "ecart_type=math.sqrt(a/len(advance_cm))\n",
    " \n",
    "\n",
    "print('The standard deviation of its displacement during the day is',ecart_type)\n"
   ]
  },
  {
   "cell_type": "code",
   "execution_count": null,
   "metadata": {},
   "outputs": [],
   "source": []
  }
 ],
 "metadata": {
  "kernelspec": {
   "display_name": "Python 3",
   "language": "python",
   "name": "python3"
  },
  "language_info": {
   "codemirror_mode": {
    "name": "ipython",
    "version": 3
   },
   "file_extension": ".py",
   "mimetype": "text/x-python",
   "name": "python",
   "nbconvert_exporter": "python",
   "pygments_lexer": "ipython3",
   "version": "3.8.3"
  }
 },
 "nbformat": 4,
 "nbformat_minor": 2
}
