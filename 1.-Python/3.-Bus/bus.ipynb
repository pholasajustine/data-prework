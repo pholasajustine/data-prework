{
 "cells": [
  {
   "cell_type": "markdown",
   "metadata": {},
   "source": [
    "# Bus\n",
    "\n",
    "This bus has a passenger entry and exit control system to monitor the number of occupants it carries and thus detect when there is too high a capacity.\n",
    "\n",
    "At each stop the entry and exit of passengers is represented by a tuple consisting of two integer numbers.\n",
    "```\n",
    "bus_stop = (in, out)\n",
    "```\n",
    "The succession of stops is represented by a list of these tuples.\n",
    "```\n",
    "stops = [(in1, out1), (in2, out2), (in3, out3), (in4, out4)]\n",
    "```\n",
    "\n",
    "## Goals:\n",
    "* lists, tuples\n",
    "* while/for loops\n",
    "* minimum, maximum, length\n",
    "* average, standard deviation\n",
    "\n",
    "## Tasks\n",
    "1. Calculate the number of stops.\n",
    "2. Assign to a variable a list whose elements are the number of passengers at each stop (in-out),\n",
    "3. Find the maximum occupation of the bus.\n",
    "4. Calculate the average occupation. And the standard deviation.\n"
   ]
  },
  {
   "cell_type": "code",
   "execution_count": 1,
   "metadata": {},
   "outputs": [],
   "source": [
    "# variables\n",
    "\n"
   ]
  },
  {
   "cell_type": "code",
   "execution_count": 2,
   "metadata": {},
   "outputs": [],
   "source": [
    "# 1. Calculate the number of stops.\n",
    "\n"
   ]
  },
  {
   "cell_type": "code",
   "execution_count": 3,
   "metadata": {},
   "outputs": [],
   "source": [
    "# 2. Assign a variable a list whose elements are the number of passengers in each stop: \n",
    "# Each item depends on the previous item in the list + in - out.\n",
    "\n"
   ]
  },
  {
   "cell_type": "code",
   "execution_count": 4,
   "metadata": {},
   "outputs": [],
   "source": [
    "# 3. Find the maximum occupation of the bus.\n",
    "\n"
   ]
  },
  {
   "cell_type": "code",
   "execution_count": 5,
   "metadata": {},
   "outputs": [],
   "source": [
    "# 4. Calculate the average occupation. And the standard deviation.\n",
    "\n"
   ]
  },
  {
   "cell_type": "code",
   "execution_count": 48,
   "metadata": {},
   "outputs": [
    {
     "name": "stdout",
     "output_type": "stream",
     "text": [
      "AT the bus stop 0 , 42 passengers were in the bus before departing.\n",
      "AT the bus stop 1 , 40 passengers were in the bus before departing.\n",
      "At the bus stop 2 , too many persons want to get on. 11 persons won't be able to get on the bus.\n",
      "At the bus stop 2 , 70 passengers were in the bus before departing.\n",
      "AT the bus stop 3 , 61 passengers were in the bus before departing.\n",
      "The maximum occupation of the bus is 70\n",
      "There is 4 stops.\n",
      "The average occupation of the bus is 53.25\n",
      "The standard deviation is 12.676257334087218\n"
     ]
    }
   ],
   "source": [
    "stops = [(42, 0), (28, 30), (60, 19), (23, 32)]\n",
    "bus_capacity=0\n",
    "nb_stops=len(stops)\n",
    "bus_stop=0\n",
    "bus_is_full=False\n",
    "passengers_cannot_get_on=0\n",
    "capacity_at_each_stop=[]\n",
    "\n",
    "for on, off in stops:\n",
    "    bus_capacity +=on-off\n",
    "    if bus_capacity>=70:\n",
    "        bus_is_full=True\n",
    "        passengers_cannot_get_on= bus_capacity-70\n",
    "        print('At the bus stop',bus_stop,', too many persons want to get on.',passengers_cannot_get_on,\"persons won't be able to get on the bus.\")\n",
    "        bus_capacity=70\n",
    "        print ('At the bus stop',bus_stop,',',bus_capacity,'passengers were in the bus before departing.')\n",
    "    else:\n",
    "        print ('AT the bus stop',bus_stop,',',bus_capacity,'passengers were in the bus before departing.')\n",
    "    bus_stop+=1\n",
    "    capacity_at_each_stop.append(bus_capacity)\n",
    "\n",
    "\n",
    "print('The maximum occupation of the bus is',max(capacity_at_each_stop))\n",
    "print('There is',nb_stops,'stops.')\n",
    "\n",
    "mean=sum(capacity_at_each_stop)/nb_stops\n",
    "print('The average occupation of the bus is',mean)\n",
    "\n",
    "a=0\n",
    "for i in capacity_at_each_stop:\n",
    "    a+=(i-mean)**2\n",
    "import math\n",
    "ecart_type=math.sqrt(a/nb_stops)\n",
    "\n",
    "print('The standard deviation is',ecart_type)"
   ]
  },
  {
   "cell_type": "code",
   "execution_count": null,
   "metadata": {},
   "outputs": [],
   "source": []
  }
 ],
 "metadata": {
  "kernelspec": {
   "display_name": "Python 3",
   "language": "python",
   "name": "python3"
  },
  "language_info": {
   "codemirror_mode": {
    "name": "ipython",
    "version": 3
   },
   "file_extension": ".py",
   "mimetype": "text/x-python",
   "name": "python",
   "nbconvert_exporter": "python",
   "pygments_lexer": "ipython3",
   "version": "3.8.3"
  }
 },
 "nbformat": 4,
 "nbformat_minor": 2
}
